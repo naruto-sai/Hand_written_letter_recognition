{
 "cells": [
  {
   "cell_type": "markdown",
   "id": "1cb84c17",
   "metadata": {},
   "source": [
    "# 1) Importing Libraries"
   ]
  },
  {
   "cell_type": "code",
   "execution_count": 1,
   "id": "84bf1ffe",
   "metadata": {},
   "outputs": [],
   "source": [
    "import numpy as np\n",
    "import pandas as pd\n",
    "import matplotlib.pyplot as plt\n",
    "import seaborn as sns\n",
    "from PIL import Image\n",
    "import os"
   ]
  },
  {
   "cell_type": "code",
   "execution_count": 3,
   "id": "48c2d675",
   "metadata": {},
   "outputs": [],
   "source": [
    "root,dirs,_=next(os.walk(r\"C:\\Users\\vivek\\python\\Exercises\\digit-recognizer\\mnist\"))"
   ]
  },
  {
   "cell_type": "code",
   "execution_count": 4,
   "id": "63da1d81",
   "metadata": {},
   "outputs": [],
   "source": [
    "arr=[]\n",
    "label=[]\n",
    "for i in dirs:\n",
    "    _,_,files=next(os.walk(r\"C:\\Users\\vivek\\python\\Exercises\\digit-recognizer\\mnist\\{}\".format(i)))\n",
    "    for j in files:\n",
    "        img = Image.open(f\"mnist/{i}/{j}\")\n",
    "        arr.append(np.array(img).flatten().tolist())\n",
    "        label.append(i)     "
   ]
  },
  {
   "cell_type": "code",
   "execution_count": 5,
   "id": "4bad856a",
   "metadata": {},
   "outputs": [
    {
     "name": "stdout",
     "output_type": "stream",
     "text": [
      "Wall time: 1min 9s\n"
     ]
    }
   ],
   "source": [
    "# Converting  the arrays into dataframe with corresponding pixel value as column name and label as the letter\n",
    "%%time\n",
    "data=pd.DataFrame(arr,columns=['pixel'+f'{i}' for i in range(784)])\n",
    "data['label']=label"
   ]
  },
  {
   "cell_type": "code",
   "execution_count": 6,
   "id": "54952181",
   "metadata": {},
   "outputs": [
    {
     "data": {
      "text/html": [
       "<div>\n",
       "<style scoped>\n",
       "    .dataframe tbody tr th:only-of-type {\n",
       "        vertical-align: middle;\n",
       "    }\n",
       "\n",
       "    .dataframe tbody tr th {\n",
       "        vertical-align: top;\n",
       "    }\n",
       "\n",
       "    .dataframe thead th {\n",
       "        text-align: right;\n",
       "    }\n",
       "</style>\n",
       "<table border=\"1\" class=\"dataframe\">\n",
       "  <thead>\n",
       "    <tr style=\"text-align: right;\">\n",
       "      <th></th>\n",
       "      <th>pixel0</th>\n",
       "      <th>pixel1</th>\n",
       "      <th>pixel2</th>\n",
       "      <th>pixel3</th>\n",
       "      <th>pixel4</th>\n",
       "      <th>pixel5</th>\n",
       "      <th>pixel6</th>\n",
       "      <th>pixel7</th>\n",
       "      <th>pixel8</th>\n",
       "      <th>pixel9</th>\n",
       "      <th>...</th>\n",
       "      <th>pixel775</th>\n",
       "      <th>pixel776</th>\n",
       "      <th>pixel777</th>\n",
       "      <th>pixel778</th>\n",
       "      <th>pixel779</th>\n",
       "      <th>pixel780</th>\n",
       "      <th>pixel781</th>\n",
       "      <th>pixel782</th>\n",
       "      <th>pixel783</th>\n",
       "      <th>label</th>\n",
       "    </tr>\n",
       "  </thead>\n",
       "  <tbody>\n",
       "    <tr>\n",
       "      <th>0</th>\n",
       "      <td>0</td>\n",
       "      <td>0</td>\n",
       "      <td>0</td>\n",
       "      <td>0</td>\n",
       "      <td>0</td>\n",
       "      <td>0</td>\n",
       "      <td>0</td>\n",
       "      <td>0</td>\n",
       "      <td>0</td>\n",
       "      <td>0</td>\n",
       "      <td>...</td>\n",
       "      <td>0</td>\n",
       "      <td>0</td>\n",
       "      <td>0</td>\n",
       "      <td>0</td>\n",
       "      <td>0</td>\n",
       "      <td>0</td>\n",
       "      <td>0</td>\n",
       "      <td>0</td>\n",
       "      <td>0</td>\n",
       "      <td>A</td>\n",
       "    </tr>\n",
       "    <tr>\n",
       "      <th>1</th>\n",
       "      <td>0</td>\n",
       "      <td>0</td>\n",
       "      <td>0</td>\n",
       "      <td>0</td>\n",
       "      <td>0</td>\n",
       "      <td>0</td>\n",
       "      <td>0</td>\n",
       "      <td>0</td>\n",
       "      <td>0</td>\n",
       "      <td>0</td>\n",
       "      <td>...</td>\n",
       "      <td>0</td>\n",
       "      <td>0</td>\n",
       "      <td>0</td>\n",
       "      <td>0</td>\n",
       "      <td>0</td>\n",
       "      <td>0</td>\n",
       "      <td>0</td>\n",
       "      <td>0</td>\n",
       "      <td>0</td>\n",
       "      <td>A</td>\n",
       "    </tr>\n",
       "    <tr>\n",
       "      <th>2</th>\n",
       "      <td>0</td>\n",
       "      <td>0</td>\n",
       "      <td>0</td>\n",
       "      <td>0</td>\n",
       "      <td>0</td>\n",
       "      <td>0</td>\n",
       "      <td>0</td>\n",
       "      <td>0</td>\n",
       "      <td>0</td>\n",
       "      <td>0</td>\n",
       "      <td>...</td>\n",
       "      <td>0</td>\n",
       "      <td>0</td>\n",
       "      <td>0</td>\n",
       "      <td>0</td>\n",
       "      <td>0</td>\n",
       "      <td>0</td>\n",
       "      <td>0</td>\n",
       "      <td>0</td>\n",
       "      <td>0</td>\n",
       "      <td>A</td>\n",
       "    </tr>\n",
       "    <tr>\n",
       "      <th>3</th>\n",
       "      <td>0</td>\n",
       "      <td>0</td>\n",
       "      <td>0</td>\n",
       "      <td>0</td>\n",
       "      <td>0</td>\n",
       "      <td>0</td>\n",
       "      <td>0</td>\n",
       "      <td>0</td>\n",
       "      <td>0</td>\n",
       "      <td>0</td>\n",
       "      <td>...</td>\n",
       "      <td>0</td>\n",
       "      <td>0</td>\n",
       "      <td>0</td>\n",
       "      <td>0</td>\n",
       "      <td>0</td>\n",
       "      <td>0</td>\n",
       "      <td>0</td>\n",
       "      <td>0</td>\n",
       "      <td>0</td>\n",
       "      <td>A</td>\n",
       "    </tr>\n",
       "    <tr>\n",
       "      <th>4</th>\n",
       "      <td>0</td>\n",
       "      <td>0</td>\n",
       "      <td>0</td>\n",
       "      <td>0</td>\n",
       "      <td>0</td>\n",
       "      <td>0</td>\n",
       "      <td>0</td>\n",
       "      <td>0</td>\n",
       "      <td>0</td>\n",
       "      <td>0</td>\n",
       "      <td>...</td>\n",
       "      <td>0</td>\n",
       "      <td>0</td>\n",
       "      <td>0</td>\n",
       "      <td>0</td>\n",
       "      <td>0</td>\n",
       "      <td>0</td>\n",
       "      <td>0</td>\n",
       "      <td>0</td>\n",
       "      <td>0</td>\n",
       "      <td>A</td>\n",
       "    </tr>\n",
       "  </tbody>\n",
       "</table>\n",
       "<p>5 rows × 785 columns</p>\n",
       "</div>"
      ],
      "text/plain": [
       "   pixel0  pixel1  pixel2  pixel3  pixel4  pixel5  pixel6  pixel7  pixel8  \\\n",
       "0       0       0       0       0       0       0       0       0       0   \n",
       "1       0       0       0       0       0       0       0       0       0   \n",
       "2       0       0       0       0       0       0       0       0       0   \n",
       "3       0       0       0       0       0       0       0       0       0   \n",
       "4       0       0       0       0       0       0       0       0       0   \n",
       "\n",
       "   pixel9  ...  pixel775  pixel776  pixel777  pixel778  pixel779  pixel780  \\\n",
       "0       0  ...         0         0         0         0         0         0   \n",
       "1       0  ...         0         0         0         0         0         0   \n",
       "2       0  ...         0         0         0         0         0         0   \n",
       "3       0  ...         0         0         0         0         0         0   \n",
       "4       0  ...         0         0         0         0         0         0   \n",
       "\n",
       "   pixel781  pixel782  pixel783  label  \n",
       "0         0         0         0      A  \n",
       "1         0         0         0      A  \n",
       "2         0         0         0      A  \n",
       "3         0         0         0      A  \n",
       "4         0         0         0      A  \n",
       "\n",
       "[5 rows x 785 columns]"
      ]
     },
     "execution_count": 6,
     "metadata": {},
     "output_type": "execute_result"
    }
   ],
   "source": [
    "# displaying top 5 elements of dataframe\n",
    "data.head()"
   ]
  },
  {
   "cell_type": "code",
   "execution_count": 7,
   "id": "603d530a",
   "metadata": {},
   "outputs": [],
   "source": [
    "# saving the converted dataframe as csv file\n",
    "data.to_csv('data.csv')"
   ]
  },
  {
   "cell_type": "code",
   "execution_count": 2,
   "id": "90636e6c",
   "metadata": {},
   "outputs": [
    {
     "data": {
      "text/html": [
       "<div>\n",
       "<style scoped>\n",
       "    .dataframe tbody tr th:only-of-type {\n",
       "        vertical-align: middle;\n",
       "    }\n",
       "\n",
       "    .dataframe tbody tr th {\n",
       "        vertical-align: top;\n",
       "    }\n",
       "\n",
       "    .dataframe thead th {\n",
       "        text-align: right;\n",
       "    }\n",
       "</style>\n",
       "<table border=\"1\" class=\"dataframe\">\n",
       "  <thead>\n",
       "    <tr style=\"text-align: right;\">\n",
       "      <th></th>\n",
       "      <th>pixel0</th>\n",
       "      <th>pixel1</th>\n",
       "      <th>pixel2</th>\n",
       "      <th>pixel3</th>\n",
       "      <th>pixel4</th>\n",
       "      <th>pixel5</th>\n",
       "      <th>pixel6</th>\n",
       "      <th>pixel7</th>\n",
       "      <th>pixel8</th>\n",
       "      <th>pixel9</th>\n",
       "      <th>...</th>\n",
       "      <th>pixel775</th>\n",
       "      <th>pixel776</th>\n",
       "      <th>pixel777</th>\n",
       "      <th>pixel778</th>\n",
       "      <th>pixel779</th>\n",
       "      <th>pixel780</th>\n",
       "      <th>pixel781</th>\n",
       "      <th>pixel782</th>\n",
       "      <th>pixel783</th>\n",
       "      <th>label</th>\n",
       "    </tr>\n",
       "  </thead>\n",
       "  <tbody>\n",
       "    <tr>\n",
       "      <th>0</th>\n",
       "      <td>0</td>\n",
       "      <td>0</td>\n",
       "      <td>0</td>\n",
       "      <td>0</td>\n",
       "      <td>0</td>\n",
       "      <td>0</td>\n",
       "      <td>0</td>\n",
       "      <td>0</td>\n",
       "      <td>0</td>\n",
       "      <td>0</td>\n",
       "      <td>...</td>\n",
       "      <td>0</td>\n",
       "      <td>0</td>\n",
       "      <td>0</td>\n",
       "      <td>0</td>\n",
       "      <td>0</td>\n",
       "      <td>0</td>\n",
       "      <td>0</td>\n",
       "      <td>0</td>\n",
       "      <td>0</td>\n",
       "      <td>C</td>\n",
       "    </tr>\n",
       "    <tr>\n",
       "      <th>1</th>\n",
       "      <td>0</td>\n",
       "      <td>0</td>\n",
       "      <td>0</td>\n",
       "      <td>0</td>\n",
       "      <td>0</td>\n",
       "      <td>0</td>\n",
       "      <td>0</td>\n",
       "      <td>0</td>\n",
       "      <td>0</td>\n",
       "      <td>0</td>\n",
       "      <td>...</td>\n",
       "      <td>0</td>\n",
       "      <td>0</td>\n",
       "      <td>0</td>\n",
       "      <td>0</td>\n",
       "      <td>0</td>\n",
       "      <td>0</td>\n",
       "      <td>0</td>\n",
       "      <td>0</td>\n",
       "      <td>0</td>\n",
       "      <td>C</td>\n",
       "    </tr>\n",
       "    <tr>\n",
       "      <th>2</th>\n",
       "      <td>0</td>\n",
       "      <td>0</td>\n",
       "      <td>0</td>\n",
       "      <td>0</td>\n",
       "      <td>0</td>\n",
       "      <td>0</td>\n",
       "      <td>0</td>\n",
       "      <td>0</td>\n",
       "      <td>0</td>\n",
       "      <td>0</td>\n",
       "      <td>...</td>\n",
       "      <td>0</td>\n",
       "      <td>0</td>\n",
       "      <td>0</td>\n",
       "      <td>0</td>\n",
       "      <td>0</td>\n",
       "      <td>0</td>\n",
       "      <td>0</td>\n",
       "      <td>0</td>\n",
       "      <td>0</td>\n",
       "      <td>T</td>\n",
       "    </tr>\n",
       "    <tr>\n",
       "      <th>3</th>\n",
       "      <td>0</td>\n",
       "      <td>0</td>\n",
       "      <td>0</td>\n",
       "      <td>0</td>\n",
       "      <td>0</td>\n",
       "      <td>0</td>\n",
       "      <td>0</td>\n",
       "      <td>0</td>\n",
       "      <td>0</td>\n",
       "      <td>0</td>\n",
       "      <td>...</td>\n",
       "      <td>0</td>\n",
       "      <td>0</td>\n",
       "      <td>0</td>\n",
       "      <td>0</td>\n",
       "      <td>0</td>\n",
       "      <td>0</td>\n",
       "      <td>0</td>\n",
       "      <td>0</td>\n",
       "      <td>0</td>\n",
       "      <td>T</td>\n",
       "    </tr>\n",
       "    <tr>\n",
       "      <th>4</th>\n",
       "      <td>0</td>\n",
       "      <td>0</td>\n",
       "      <td>0</td>\n",
       "      <td>0</td>\n",
       "      <td>0</td>\n",
       "      <td>0</td>\n",
       "      <td>0</td>\n",
       "      <td>0</td>\n",
       "      <td>0</td>\n",
       "      <td>0</td>\n",
       "      <td>...</td>\n",
       "      <td>0</td>\n",
       "      <td>0</td>\n",
       "      <td>0</td>\n",
       "      <td>0</td>\n",
       "      <td>0</td>\n",
       "      <td>0</td>\n",
       "      <td>0</td>\n",
       "      <td>0</td>\n",
       "      <td>0</td>\n",
       "      <td>T</td>\n",
       "    </tr>\n",
       "  </tbody>\n",
       "</table>\n",
       "<p>5 rows × 785 columns</p>\n",
       "</div>"
      ],
      "text/plain": [
       "   pixel0  pixel1  pixel2  pixel3  pixel4  pixel5  pixel6  pixel7  pixel8  \\\n",
       "0       0       0       0       0       0       0       0       0       0   \n",
       "1       0       0       0       0       0       0       0       0       0   \n",
       "2       0       0       0       0       0       0       0       0       0   \n",
       "3       0       0       0       0       0       0       0       0       0   \n",
       "4       0       0       0       0       0       0       0       0       0   \n",
       "\n",
       "   pixel9  ...  pixel775  pixel776  pixel777  pixel778  pixel779  pixel780  \\\n",
       "0       0  ...         0         0         0         0         0         0   \n",
       "1       0  ...         0         0         0         0         0         0   \n",
       "2       0  ...         0         0         0         0         0         0   \n",
       "3       0  ...         0         0         0         0         0         0   \n",
       "4       0  ...         0         0         0         0         0         0   \n",
       "\n",
       "   pixel781  pixel782  pixel783  label  \n",
       "0         0         0         0      C  \n",
       "1         0         0         0      C  \n",
       "2         0         0         0      T  \n",
       "3         0         0         0      T  \n",
       "4         0         0         0      T  \n",
       "\n",
       "[5 rows x 785 columns]"
      ]
     },
     "execution_count": 2,
     "metadata": {},
     "output_type": "execute_result"
    }
   ],
   "source": [
    "# reading and removing the redundant column from the CSV.\n",
    "data=pd.read_csv('data.csv')\n",
    "data.drop('Unnamed: 0',axis=1, inplace=True)\n",
    "# shuffling the data in the CSV file while reading\n",
    "data = data.sample(frac=1).reset_index(drop=True)\n",
    "data.head()"
   ]
  },
  {
   "cell_type": "code",
   "execution_count": 3,
   "id": "bc8ca16c",
   "metadata": {},
   "outputs": [
    {
     "data": {
      "text/plain": [
       "(372451, 785)"
      ]
     },
     "execution_count": 3,
     "metadata": {},
     "output_type": "execute_result"
    }
   ],
   "source": [
    "# Shape of the csv file\n",
    "data.shape"
   ]
  },
  {
   "cell_type": "code",
   "execution_count": 10,
   "id": "676a794b",
   "metadata": {
    "scrolled": false
   },
   "outputs": [
    {
     "data": {
      "text/plain": [
       "O    57825\n",
       "S    48419\n",
       "U    29008\n",
       "C    23409\n",
       "T    22495\n",
       "P    19341\n",
       "N    19010\n",
       "A    13870\n",
       "M    12336\n",
       "L    11586\n",
       "R    11566\n",
       "E    11440\n",
       "Y    10859\n",
       "W    10784\n",
       "D    10134\n",
       "B     8668\n",
       "J     8493\n",
       "H     7218\n",
       "X     6272\n",
       "Z     6076\n",
       "Q     5812\n",
       "G     5762\n",
       "K     5603\n",
       "V     4182\n",
       "F     1163\n",
       "I     1120\n",
       "Name: label, dtype: int64"
      ]
     },
     "execution_count": 10,
     "metadata": {},
     "output_type": "execute_result"
    }
   ],
   "source": [
    "# Identifying the distribution of the data corresponding to each letter\n",
    "data.label.value_counts()"
   ]
  },
  {
   "cell_type": "markdown",
   "id": "6bb3ff18",
   "metadata": {},
   "source": [
    "### Observation\n",
    "<br>\n",
    "<li> As can be seen, the data is unevenly distributde among the labels"
   ]
  },
  {
   "cell_type": "code",
   "execution_count": 11,
   "id": "9f022f11",
   "metadata": {},
   "outputs": [
    {
     "name": "stderr",
     "output_type": "stream",
     "text": [
      "C:\\Users\\vivek\\anaconda3\\lib\\site-packages\\seaborn\\_decorators.py:36: FutureWarning: Pass the following variable as a keyword arg: x. From version 0.12, the only valid positional argument will be `data`, and passing other arguments without an explicit keyword will result in an error or misinterpretation.\n",
      "  warnings.warn(\n"
     ]
    },
    {
     "data": {
      "image/png": "[encoded data removed]",
      "text/plain": [
       "<Figure size 640x480 with 1 Axes>"
      ]
     },
     "metadata": {},
     "output_type": "display_data"
    }
   ],
   "source": [
    "# Visualizing the distribution of the labels\n",
    "sns.countplot(data.label)\n",
    "plt.show()"
   ]
  },
  {
   "cell_type": "code",
   "execution_count": 12,
   "id": "0ee0c85f",
   "metadata": {},
   "outputs": [
    {
     "data": {
      "text/plain": [
       "array([313865,  25686, 361869, 195420])"
      ]
     },
     "execution_count": 12,
     "metadata": {},
     "output_type": "execute_result"
    }
   ],
   "source": [
    "# generating random numbers within the dimensions of the dataset\n",
    "r_index=np.random.randint(0,372451,4)\n",
    "r_index"
   ]
  },
  {
   "cell_type": "code",
   "execution_count": 13,
   "id": "71e23537",
   "metadata": {},
   "outputs": [
    {
     "data": {
      "text/plain": [
       "<matplotlib.image.AxesImage at 0x131bb5afa60>"
      ]
     },
     "execution_count": 13,
     "metadata": {},
     "output_type": "execute_result"
    },
    {
     "data": {
      "image/png": "[encoded data removed]",
      "text/plain": [
       "<Figure size 200x200 with 1 Axes>"
      ]
     },
     "metadata": {},
     "output_type": "display_data"
    }
   ],
   "source": [
    "plt.figure(figsize=(2,2))\n",
    "plt.imshow(data.iloc[r_index[1]][:-1].values.reshape((28, 28)).astype('int'))"
   ]
  },
  {
   "cell_type": "code",
   "execution_count": 14,
   "id": "1ede658f",
   "metadata": {},
   "outputs": [
    {
     "data": {
      "image/png": "[encoded data removed]",
      "text/plain": [
       "<Figure size 600x600 with 4 Axes>"
      ]
     },
     "metadata": {},
     "output_type": "display_data"
    }
   ],
   "source": [
    "plt.figure(figsize=(6,6))\n",
    "for i in range(len(r_index)):\n",
    "    plt.subplot(2,2,i+1)    \n",
    "    plt.title(data.label[r_index[i]])\n",
    "    plt.imshow(data.iloc[r_index[i]][:-1].values.reshape((28, 28)).astype('int'))"
   ]
  },
  {
   "cell_type": "markdown",
   "id": "6867c3d1",
   "metadata": {},
   "source": [
    "##### Train Test Split"
   ]
  },
  {
   "cell_type": "code",
   "execution_count": 4,
   "id": "95f6c84a",
   "metadata": {},
   "outputs": [],
   "source": [
    "X=data[data.columns[:-1]]\n",
    "y=data.label"
   ]
  },
  {
   "cell_type": "code",
   "execution_count": 5,
   "id": "70c9b474",
   "metadata": {},
   "outputs": [],
   "source": [
    "from sklearn.model_selection import train_test_split\n",
    "x_train,x_test,y_train,y_test=train_test_split(X,y,train_size=0.75, random_state=0,stratify=y)"
   ]
  },
  {
   "cell_type": "code",
   "execution_count": 6,
   "id": "a3fc57e9",
   "metadata": {},
   "outputs": [
    {
     "name": "stdout",
     "output_type": "stream",
     "text": [
      "(279338, 784) (93113, 784) \n",
      " (279338,) (93113,)\n"
     ]
    }
   ],
   "source": [
    "print(x_train.shape, x_test.shape,'\\n',y_train.shape,y_test.shape)"
   ]
  },
  {
   "cell_type": "markdown",
   "id": "1fad4448",
   "metadata": {},
   "source": [
    "#### Training and Testing"
   ]
  },
  {
   "cell_type": "code",
   "execution_count": 8,
   "id": "02a7ce66",
   "metadata": {},
   "outputs": [],
   "source": [
    "from sklearn.neighbors import KNeighborsClassifier\n",
    "from sklearn.linear_model import LogisticRegression\n",
    "from sklearn.svm import SVC\n",
    "from sklearn.ensemble import RandomForestClassifier\n",
    "from sklearn.tree import DecisionTreeClassifier\n",
    "from sklearn import metrics"
   ]
  },
  {
   "cell_type": "markdown",
   "id": "01a219cb",
   "metadata": {},
   "source": [
    "## Logistic Regression"
   ]
  },
  {
   "cell_type": "code",
   "execution_count": 22,
   "id": "92d9574b",
   "metadata": {},
   "outputs": [
    {
     "name": "stderr",
     "output_type": "stream",
     "text": [
      "C:\\Users\\vivek\\anaconda3\\lib\\site-packages\\sklearn\\linear_model\\_logistic.py:814: ConvergenceWarning: lbfgs failed to converge (status=1):\n",
      "STOP: TOTAL NO. of ITERATIONS REACHED LIMIT.\n",
      "\n",
      "Increase the number of iterations (max_iter) or scale the data as shown in:\n",
      "    https://scikit-learn.org/stable/modules/preprocessing.html\n",
      "Please also refer to the documentation for alternative solver options:\n",
      "    https://scikit-learn.org/stable/modules/linear_model.html#logistic-regression\n",
      "  n_iter_i = _check_optimize_result(\n"
     ]
    },
    {
     "data": {
      "text/plain": [
       "LogisticRegression()"
      ]
     },
     "execution_count": 22,
     "metadata": {},
     "output_type": "execute_result"
    }
   ],
   "source": [
    "# Initiating the classifier class and training the algorith with the split data\n",
    "classifier=LogisticRegression()\n",
    "classifier.fit(x_train,y_train)"
   ]
  },
  {
   "cell_type": "code",
   "execution_count": 23,
   "id": "93ae27fb",
   "metadata": {},
   "outputs": [],
   "source": [
    "# Predicting the data\n",
    "y_test_pred=classifier.predict(x_test)"
   ]
  },
  {
   "cell_type": "markdown",
   "id": "b471c36c",
   "metadata": {},
   "source": [
    "### Accuracy of the model"
   ]
  },
  {
   "cell_type": "code",
   "execution_count": 24,
   "id": "a835017f",
   "metadata": {},
   "outputs": [
    {
     "data": {
      "text/plain": [
       "0.8783628494410018"
      ]
     },
     "execution_count": 24,
     "metadata": {},
     "output_type": "execute_result"
    }
   ],
   "source": [
    "lr_accuracy=metrics.accuracy_score(y_test_pred,y_test)\n",
    "lr_accuracy"
   ]
  },
  {
   "cell_type": "code",
   "execution_count": 25,
   "id": "83bb9505",
   "metadata": {},
   "outputs": [
    {
     "data": {
      "text/plain": [
       "<AxesSubplot:>"
      ]
     },
     "execution_count": 25,
     "metadata": {},
     "output_type": "execute_result"
    },
    {
     "data": {
      "image/png": "[encoded data removed]",
      "text/plain": [
       "<Figure size 1500x1500 with 2 Axes>"
      ]
     },
     "metadata": {},
     "output_type": "display_data"
    }
   ],
   "source": [
    "conf_mtrx=metrics.confusion_matrix(y_test_pred,y_test)\n",
    "plt.figure(figsize=(15,15))\n",
    "sns.heatmap(conf_mtrx)"
   ]
  },
  {
   "cell_type": "code",
   "execution_count": 26,
   "id": "890c61af",
   "metadata": {
    "scrolled": false
   },
   "outputs": [
    {
     "name": "stdout",
     "output_type": "stream",
     "text": [
      "              precision    recall  f1-score   support\n",
      "\n",
      "           A       0.84      0.87      0.85      3468\n",
      "           B       0.86      0.81      0.84      2167\n",
      "           C       0.90      0.90      0.90      5852\n",
      "           D       0.82      0.77      0.79      2533\n",
      "           E       0.84      0.80      0.82      2860\n",
      "           F       0.93      0.79      0.86       291\n",
      "           G       0.83      0.77      0.80      1440\n",
      "           H       0.77      0.72      0.74      1804\n",
      "           I       0.88      0.81      0.84       280\n",
      "           J       0.78      0.73      0.76      2123\n",
      "           K       0.76      0.76      0.76      1401\n",
      "           L       0.92      0.94      0.93      2897\n",
      "           M       0.88      0.89      0.89      3084\n",
      "           N       0.81      0.82      0.81      4753\n",
      "           O       0.92      0.96      0.94     14456\n",
      "           P       0.90      0.92      0.91      4835\n",
      "           Q       0.84      0.76      0.80      1453\n",
      "           R       0.79      0.80      0.79      2892\n",
      "           S       0.93      0.93      0.93     12105\n",
      "           T       0.92      0.94      0.93      5624\n",
      "           U       0.87      0.89      0.88      7252\n",
      "           V       0.88      0.89      0.89      1045\n",
      "           W       0.83      0.79      0.81      2696\n",
      "           X       0.84      0.83      0.84      1568\n",
      "           Y       0.84      0.83      0.83      2715\n",
      "           Z       0.88      0.84      0.86      1519\n",
      "\n",
      "    accuracy                           0.88     93113\n",
      "   macro avg       0.86      0.84      0.85     93113\n",
      "weighted avg       0.88      0.88      0.88     93113\n",
      "\n"
     ]
    }
   ],
   "source": [
    "print(metrics.classification_report(y_test, y_test_pred))"
   ]
  },
  {
   "cell_type": "code",
   "execution_count": null,
   "id": "917b83e6",
   "metadata": {},
   "outputs": [],
   "source": []
  },
  {
   "cell_type": "code",
   "execution_count": 27,
   "id": "0e142166",
   "metadata": {},
   "outputs": [],
   "source": [
    "algo_accuracy=[]\n",
    "algo_accuracy.append(lr_accuracy)"
   ]
  },
  {
   "cell_type": "markdown",
   "id": "171b3461",
   "metadata": {},
   "source": [
    "## KNN Classifier"
   ]
  },
  {
   "cell_type": "code",
   "execution_count": 28,
   "id": "d8ee5fe9",
   "metadata": {},
   "outputs": [
    {
     "data": {
      "text/plain": [
       "KNeighborsClassifier()"
      ]
     },
     "execution_count": 28,
     "metadata": {},
     "output_type": "execute_result"
    }
   ],
   "source": [
    "classifier=KNeighborsClassifier()\n",
    "classifier.fit(x_train,y_train)"
   ]
  },
  {
   "cell_type": "code",
   "execution_count": 29,
   "id": "73f7c06a",
   "metadata": {},
   "outputs": [
    {
     "name": "stderr",
     "output_type": "stream",
     "text": [
      "C:\\Users\\vivek\\anaconda3\\lib\\site-packages\\sklearn\\neighbors\\_classification.py:228: FutureWarning: Unlike other reduction functions (e.g. `skew`, `kurtosis`), the default behavior of `mode` typically preserves the axis it acts along. In SciPy 1.11.0, this behavior will change: the default value of `keepdims` will become False, the `axis` over which the statistic is taken will be eliminated, and the value None will no longer be accepted. Set `keepdims` to True or False to avoid this warning.\n",
      "  mode, _ = stats.mode(_y[neigh_ind, k], axis=1)\n"
     ]
    }
   ],
   "source": [
    "y_test_pred=classifier.predict(x_test)"
   ]
  },
  {
   "cell_type": "code",
   "execution_count": 30,
   "id": "79fa9373",
   "metadata": {},
   "outputs": [
    {
     "data": {
      "text/plain": [
       "0.9589316207189115"
      ]
     },
     "execution_count": 30,
     "metadata": {},
     "output_type": "execute_result"
    }
   ],
   "source": [
    "knn_accuracy=metrics.accuracy_score(y_test_pred,y_test)\n",
    "knn_accuracy"
   ]
  },
  {
   "cell_type": "code",
   "execution_count": 35,
   "id": "bcb138ad",
   "metadata": {
    "scrolled": false
   },
   "outputs": [
    {
     "data": {
      "text/plain": [
       "<AxesSubplot:>"
      ]
     },
     "execution_count": 35,
     "metadata": {},
     "output_type": "execute_result"
    },
    {
     "data": {
      "image/png": "[encoded data removed]",
      "text/plain": [
       "<Figure size 800x800 with 2 Axes>"
      ]
     },
     "metadata": {},
     "output_type": "display_data"
    }
   ],
   "source": [
    "conf_mtrx=metrics.confusion_matrix(y_test_pred,y_test)\n",
    "plt.figure(figsize=(8,8))\n",
    "sns.heatmap(conf_mtrx)"
   ]
  },
  {
   "cell_type": "code",
   "execution_count": 36,
   "id": "4311a914",
   "metadata": {},
   "outputs": [
    {
     "name": "stdout",
     "output_type": "stream",
     "text": [
      "              precision    recall  f1-score   support\n",
      "\n",
      "           A       0.94      0.97      0.96      3468\n",
      "           B       0.98      0.87      0.92      2167\n",
      "           C       0.94      0.98      0.96      5852\n",
      "           D       0.94      0.86      0.90      2533\n",
      "           E       0.98      0.91      0.94      2860\n",
      "           F       0.93      0.89      0.91       291\n",
      "           G       0.97      0.86      0.91      1440\n",
      "           H       0.92      0.92      0.92      1804\n",
      "           I       0.97      0.88      0.92       280\n",
      "           J       0.94      0.92      0.93      2123\n",
      "           K       0.96      0.91      0.93      1401\n",
      "           L       0.93      0.98      0.95      2897\n",
      "           M       0.99      0.96      0.97      3084\n",
      "           N       0.95      0.97      0.96      4753\n",
      "           O       0.95      0.99      0.97     14456\n",
      "           P       0.91      0.98      0.95      4835\n",
      "           Q       0.97      0.77      0.86      1453\n",
      "           R       0.97      0.87      0.92      2892\n",
      "           S       0.99      0.99      0.99     12105\n",
      "           T       0.96      0.99      0.97      5624\n",
      "           U       0.97      0.99      0.98      7252\n",
      "           V       0.98      0.98      0.98      1045\n",
      "           W       0.99      0.93      0.96      2696\n",
      "           X       0.99      0.90      0.94      1568\n",
      "           Y       0.92      0.96      0.94      2715\n",
      "           Z       0.98      0.95      0.96      1519\n",
      "\n",
      "    accuracy                           0.96     93113\n",
      "   macro avg       0.96      0.93      0.94     93113\n",
      "weighted avg       0.96      0.96      0.96     93113\n",
      "\n"
     ]
    }
   ],
   "source": [
    "print(metrics.classification_report(y_test, y_test_pred))"
   ]
  },
  {
   "cell_type": "code",
   "execution_count": 37,
   "id": "342dcf05",
   "metadata": {},
   "outputs": [],
   "source": [
    "algo_accuracy.append(knn_accuracy)"
   ]
  },
  {
   "cell_type": "code",
   "execution_count": null,
   "id": "4066576c",
   "metadata": {},
   "outputs": [],
   "source": []
  },
  {
   "cell_type": "markdown",
   "id": "5386aa76",
   "metadata": {},
   "source": [
    "## Support Vectore Classifier"
   ]
  },
  {
   "cell_type": "code",
   "execution_count": 39,
   "id": "36c2cdcb",
   "metadata": {},
   "outputs": [
    {
     "data": {
      "text/plain": [
       "SVC()"
      ]
     },
     "execution_count": 39,
     "metadata": {},
     "output_type": "execute_result"
    }
   ],
   "source": [
    "classifier=SVC()\n",
    "classifier.fit(x_train,y_train)"
   ]
  },
  {
   "cell_type": "code",
   "execution_count": 40,
   "id": "973e89d3",
   "metadata": {},
   "outputs": [
    {
     "data": {
      "text/plain": [
       "0.980711608475723"
      ]
     },
     "execution_count": 40,
     "metadata": {},
     "output_type": "execute_result"
    }
   ],
   "source": [
    "y_test_pred=classifier.predict(x_test)\n",
    "svc_accuracy=metrics.accuracy_score(y_test_pred,y_test)\n",
    "svc_accuracy"
   ]
  },
  {
   "cell_type": "code",
   "execution_count": 41,
   "id": "5791a4ff",
   "metadata": {},
   "outputs": [],
   "source": [
    "algo_accuracy.append(svc_accuracy)"
   ]
  },
  {
   "cell_type": "code",
   "execution_count": 42,
   "id": "62aa739f",
   "metadata": {},
   "outputs": [
    {
     "data": {
      "text/plain": [
       "<AxesSubplot:>"
      ]
     },
     "execution_count": 42,
     "metadata": {},
     "output_type": "execute_result"
    },
    {
     "data": {
      "image/png": "[encoded data removed]",
      "text/plain": [
       "<Figure size 800x800 with 2 Axes>"
      ]
     },
     "metadata": {},
     "output_type": "display_data"
    }
   ],
   "source": [
    "conf_mtrx=metrics.confusion_matrix(y_test_pred,y_test)\n",
    "plt.figure(figsize=(8,8))\n",
    "sns.heatmap(conf_mtrx)"
   ]
  },
  {
   "cell_type": "code",
   "execution_count": 45,
   "id": "d01360bc",
   "metadata": {},
   "outputs": [
    {
     "name": "stdout",
     "output_type": "stream",
     "text": [
      "              precision    recall  f1-score   support\n",
      "\n",
      "           A       0.96      0.99      0.97      3468\n",
      "           B       0.98      0.97      0.97      2167\n",
      "           C       0.98      0.99      0.99      5852\n",
      "           D       0.95      0.95      0.95      2533\n",
      "           E       0.99      0.97      0.98      2860\n",
      "           F       0.98      0.96      0.97       291\n",
      "           G       0.98      0.95      0.96      1440\n",
      "           H       0.97      0.93      0.95      1804\n",
      "           I       1.00      0.95      0.97       280\n",
      "           J       0.96      0.96      0.96      2123\n",
      "           K       0.96      0.95      0.96      1401\n",
      "           L       0.98      0.99      0.98      2897\n",
      "           M       0.98      0.98      0.98      3084\n",
      "           N       0.97      0.98      0.98      4753\n",
      "           O       0.99      0.99      0.99     14456\n",
      "           P       0.98      0.99      0.99      4835\n",
      "           Q       0.98      0.96      0.97      1453\n",
      "           R       0.98      0.96      0.97      2892\n",
      "           S       0.99      0.99      0.99     12105\n",
      "           T       0.99      0.99      0.99      5624\n",
      "           U       0.99      0.99      0.99      7252\n",
      "           V       0.99      0.98      0.99      1045\n",
      "           W       0.98      0.96      0.97      2696\n",
      "           X       0.97      0.96      0.96      1568\n",
      "           Y       0.96      0.97      0.96      2715\n",
      "           Z       0.99      0.98      0.98      1519\n",
      "\n",
      "    accuracy                           0.98     93113\n",
      "   macro avg       0.98      0.97      0.97     93113\n",
      "weighted avg       0.98      0.98      0.98     93113\n",
      "\n"
     ]
    }
   ],
   "source": [
    "print(metrics.classification_report(y_test, y_test_pred))"
   ]
  },
  {
   "cell_type": "code",
   "execution_count": null,
   "id": "304529cb",
   "metadata": {},
   "outputs": [],
   "source": []
  },
  {
   "cell_type": "markdown",
   "id": "1eaf51d4",
   "metadata": {},
   "source": [
    "## Decision Tree Classifier"
   ]
  },
  {
   "cell_type": "code",
   "execution_count": 46,
   "id": "2e02f829",
   "metadata": {},
   "outputs": [
    {
     "data": {
      "text/plain": [
       "DecisionTreeClassifier()"
      ]
     },
     "execution_count": 46,
     "metadata": {},
     "output_type": "execute_result"
    }
   ],
   "source": [
    "classifier=DecisionTreeClassifier()\n",
    "classifier.fit(x_train,y_train)"
   ]
  },
  {
   "cell_type": "code",
   "execution_count": 47,
   "id": "cd6be87c",
   "metadata": {},
   "outputs": [
    {
     "data": {
      "text/plain": [
       "0.9466562134181049"
      ]
     },
     "execution_count": 47,
     "metadata": {},
     "output_type": "execute_result"
    }
   ],
   "source": [
    "y_test_pred=classifier.predict(x_test)\n",
    "dt_accuracy=metrics.accuracy_score(y_test_pred,y_test)\n",
    "algo_accuracy.append(dt_accuracy)\n",
    "dt_accuracy"
   ]
  },
  {
   "cell_type": "code",
   "execution_count": 48,
   "id": "52d03ebd",
   "metadata": {},
   "outputs": [
    {
     "data": {
      "text/plain": [
       "<AxesSubplot:>"
      ]
     },
     "execution_count": 48,
     "metadata": {},
     "output_type": "execute_result"
    },
    {
     "data": {
      "image/png": "[encoded data removed]",
      "text/plain": [
       "<Figure size 800x800 with 2 Axes>"
      ]
     },
     "metadata": {},
     "output_type": "display_data"
    }
   ],
   "source": [
    "conf_mtrx=metrics.confusion_matrix(y_test_pred,y_test)\n",
    "plt.figure(figsize=(8,8))\n",
    "sns.heatmap(conf_mtrx)"
   ]
  },
  {
   "cell_type": "code",
   "execution_count": 49,
   "id": "c28cb2c9",
   "metadata": {},
   "outputs": [
    {
     "name": "stdout",
     "output_type": "stream",
     "text": [
      "              precision    recall  f1-score   support\n",
      "\n",
      "           A       0.92      0.92      0.92      3468\n",
      "           B       0.90      0.88      0.89      2167\n",
      "           C       0.96      0.97      0.97      5852\n",
      "           D       0.90      0.90      0.90      2533\n",
      "           E       0.92      0.92      0.92      2860\n",
      "           F       0.88      0.80      0.84       291\n",
      "           G       0.91      0.89      0.90      1440\n",
      "           H       0.86      0.87      0.86      1804\n",
      "           I       0.91      0.82      0.86       280\n",
      "           J       0.90      0.91      0.91      2123\n",
      "           K       0.90      0.89      0.90      1401\n",
      "           L       0.96      0.96      0.96      2897\n",
      "           M       0.93      0.87      0.90      3084\n",
      "           N       0.93      0.94      0.94      4753\n",
      "           O       0.98      0.98      0.98     14456\n",
      "           P       0.96      0.97      0.96      4835\n",
      "           Q       0.87      0.87      0.87      1453\n",
      "           R       0.91      0.91      0.91      2892\n",
      "           S       0.98      0.98      0.98     12105\n",
      "           T       0.98      0.98      0.98      5624\n",
      "           U       0.96      0.97      0.97      7252\n",
      "           V       0.96      0.93      0.94      1045\n",
      "           W       0.93      0.93      0.93      2696\n",
      "           X       0.90      0.90      0.90      1568\n",
      "           Y       0.93      0.95      0.94      2715\n",
      "           Z       0.93      0.92      0.92      1519\n",
      "\n",
      "    accuracy                           0.95     93113\n",
      "   macro avg       0.93      0.92      0.92     93113\n",
      "weighted avg       0.95      0.95      0.95     93113\n",
      "\n"
     ]
    }
   ],
   "source": [
    "print(metrics.classification_report(y_test, y_test_pred))"
   ]
  },
  {
   "cell_type": "code",
   "execution_count": null,
   "id": "b399ca00",
   "metadata": {},
   "outputs": [],
   "source": []
  },
  {
   "cell_type": "markdown",
   "id": "aaa09053",
   "metadata": {},
   "source": [
    "## Random Forest"
   ]
  },
  {
   "cell_type": "code",
   "execution_count": 50,
   "id": "e7ce66f4",
   "metadata": {},
   "outputs": [
    {
     "data": {
      "text/plain": [
       "RandomForestClassifier()"
      ]
     },
     "execution_count": 50,
     "metadata": {},
     "output_type": "execute_result"
    }
   ],
   "source": [
    "classifier=RandomForestClassifier()\n",
    "classifier.fit(x_train,y_train)"
   ]
  },
  {
   "cell_type": "code",
   "execution_count": 51,
   "id": "23c65bd6",
   "metadata": {},
   "outputs": [
    {
     "data": {
      "text/plain": [
       "0.9863391792767927"
      ]
     },
     "execution_count": 51,
     "metadata": {},
     "output_type": "execute_result"
    }
   ],
   "source": [
    "y_test_pred=classifier.predict(x_test)\n",
    "rf_accuracy=metrics.accuracy_score(y_test_pred,y_test)\n",
    "algo_accuracy.append(rf_accuracy)\n",
    "rf_accuracy"
   ]
  },
  {
   "cell_type": "code",
   "execution_count": 52,
   "id": "e5fec0f6",
   "metadata": {},
   "outputs": [
    {
     "data": {
      "text/plain": [
       "<AxesSubplot:>"
      ]
     },
     "execution_count": 52,
     "metadata": {},
     "output_type": "execute_result"
    },
    {
     "data": {
      "image/png": "[encoded data removed]",
      "text/plain": [
       "<Figure size 800x800 with 2 Axes>"
      ]
     },
     "metadata": {},
     "output_type": "display_data"
    }
   ],
   "source": [
    "conf_mtrx=metrics.confusion_matrix(y_test_pred,y_test)\n",
    "plt.figure(figsize=(8,8))\n",
    "sns.heatmap(conf_mtrx)"
   ]
  },
  {
   "cell_type": "code",
   "execution_count": 53,
   "id": "5b57af06",
   "metadata": {},
   "outputs": [
    {
     "name": "stdout",
     "output_type": "stream",
     "text": [
      "              precision    recall  f1-score   support\n",
      "\n",
      "           A       0.97      0.99      0.98      3468\n",
      "           B       0.99      0.97      0.98      2167\n",
      "           C       0.99      0.99      0.99      5852\n",
      "           D       0.98      0.95      0.96      2533\n",
      "           E       0.99      0.98      0.98      2860\n",
      "           F       0.99      0.92      0.95       291\n",
      "           G       0.99      0.96      0.97      1440\n",
      "           H       0.98      0.95      0.97      1804\n",
      "           I       1.00      0.96      0.98       280\n",
      "           J       0.99      0.97      0.98      2123\n",
      "           K       0.98      0.96      0.97      1401\n",
      "           L       0.99      0.99      0.99      2897\n",
      "           M       0.98      0.98      0.98      3084\n",
      "           N       0.98      0.99      0.98      4753\n",
      "           O       0.99      1.00      0.99     14456\n",
      "           P       0.99      0.99      0.99      4835\n",
      "           Q       0.99      0.95      0.97      1453\n",
      "           R       0.98      0.98      0.98      2892\n",
      "           S       0.99      1.00      0.99     12105\n",
      "           T       0.99      1.00      0.99      5624\n",
      "           U       0.99      1.00      0.99      7252\n",
      "           V       0.98      0.98      0.98      1045\n",
      "           W       0.99      0.98      0.98      2696\n",
      "           X       0.98      0.98      0.98      1568\n",
      "           Y       0.98      0.98      0.98      2715\n",
      "           Z       0.99      0.98      0.99      1519\n",
      "\n",
      "    accuracy                           0.99     93113\n",
      "   macro avg       0.99      0.98      0.98     93113\n",
      "weighted avg       0.99      0.99      0.99     93113\n",
      "\n"
     ]
    }
   ],
   "source": [
    "print(metrics.classification_report(y_test, y_test_pred))"
   ]
  },
  {
   "cell_type": "code",
   "execution_count": 63,
   "id": "f92c2db6",
   "metadata": {},
   "outputs": [
    {
     "data": {
      "image/png": "[encoded data removed]",
      "text/plain": [
       "<Figure size 500x500 with 1 Axes>"
      ]
     },
     "metadata": {},
     "output_type": "display_data"
    }
   ],
   "source": [
    "labels = ['Logistic Regression', 'KNN Classifier', 'SVM Classifier', 'Decision Tree', 'Random Forest']\n",
    "acc_plot = pd.DataFrame({'Models': labels, 'Accuracy': algo_accuracy})\n",
    "sns.catplot(x='Models', y='Accuracy', kind='bar', data=acc_plot)\n",
    "plt.xticks(rotation=90)\n",
    "plt.show()"
   ]
  }
 ],
 "metadata": {
  "kernelspec": {
   "display_name": "Python 3 (ipykernel)",
   "language": "python",
   "name": "python3"
  },
  "language_info": {
   "codemirror_mode": {
    "name": "ipython",
    "version": 3
   },
   "file_extension": ".py",
   "mimetype": "text/x-python",
   "name": "python",
   "nbconvert_exporter": "python",
   "pygments_lexer": "ipython3",
   "version": "3.9.13"
  }
 },
 "nbformat": 4,
 "nbformat_minor": 5
}
